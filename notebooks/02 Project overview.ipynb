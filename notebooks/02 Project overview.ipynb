{
 "cells": [
  {
   "cell_type": "markdown",
   "id": "9244b344-3b33-4847-8ca4-aa8c5c5317dd",
   "metadata": {},
   "source": [
    "# Project overview\n",
    "\n",
    "Apziva project #3<br>\n",
    "2023 07 17"
   ]
  },
  {
   "cell_type": "markdown",
   "id": "57c551d7-9aec-4e0f-849f-ab27622bf2a3",
   "metadata": {},
   "source": [
    "## TOC: <a class=\"anchor\" id=\"TOC\"></a>\n",
    "* [Task description](#TaskDescription)\n",
    "* [Repository description](#RepositoryDescription) "
   ]
  },
  {
   "cell_type": "markdown",
   "id": "b8faa908-ae76-4284-9345-54e18225bd20",
   "metadata": {},
   "source": [
    "## Task description <a class=\"anchor\" id=\"TaskDescription\"></a>\n",
    "[TOC](#TOC)"
   ]
  },
  {
   "cell_type": "markdown",
   "id": "f087dc66-0e51-4969-91aa-f9a77fc3cc0d",
   "metadata": {},
   "source": [
    "__Background:__\n",
    "* As a __talent sourcing and management company__ (further down referred to as __TSMC__), we are interested in __finding talented individuals__ for sourcing these candidates to technology companies. \n",
    "* Finding talented candidates is not easy, for several reasons. \n",
    "    1. The first reason is one needs to __understand what the role is__ very well to fill in that spot, this requires understanding the client’s needs and what they are looking for in a potential candidate. \n",
    "    1. The second reason is one needs to understand __what makes a candidate shine__ for the role we are in search for. \n",
    "    1. Third, __where to find talented individuals__ is another challenge.\n",
    "* The nature of our job requires __a lot of human labor__ and is full of manual operations. \n",
    "    * Towards automating this process we want to __build a better approach__ that could save us time and finally help us spot potential candidates that could fit the roles we are in search for. \n",
    "    * Moreover, going beyond that for a specific role we want to fill in we are interested in __developing a machine learning powered pipeline__ that could spot talented individuals, and __rank them based on their fitness__.\n",
    "* We are right now semi-automatically sourcing a few candidates.\n",
    "    * The __sourcing part__ is __not a concern__ at this time.\n",
    "    * We expect to first determine best matching candidates based on __how fit these candidates are for a given role__. \n",
    "    * We generally make these searches based on some __keywords__ such as “full-stack software engineer”, “engineering manager” or “aspiring human resources” based on the role we are trying to fill in. \n",
    "    * These __keywords might change__, and you can __expect that specific keywords will be provided to you__.\n",
    "* We assume that we were able to list and rank fitting candidates:\n",
    "    * We then employ a review procedure, as each candidate needs to be reviewed and then determined __how good a fit they are__. \n",
    "        * This procedure is done __manually__ and at the end of this manual review, we __might choose not the first fitting candidate__ in the list, but maybe the 7th candidate in the list. \n",
    "        * If that happens, we are interested in being able to __re-rank the previous list__ based on this information. \n",
    "        * This __supervisory signal__ is going to be supplied by __starring__ the 7th candidate in the list. \n",
    "        * __Starring one candidate__ actually sets this candidate as an __ideal candidate__ for the given role. \n",
    "        * Then, we expect the __list to be re-ranked each time__ a candidate is starred.\n",
    "        \n",
    "__Data Description:__\n",
    "* The __data__ comes from our __sourcing efforts__. \n",
    "* We removed any field that could directly reveal personal details and gave a __unique identifier__ for each candidate.\n",
    "\n",
    "__Attributes:__\n",
    "* `id`: unique identifier for candidate (numeric)\n",
    "* `job_title`: job title for candidate (text)\n",
    "* `location`: geographical location for candidate (text)\n",
    "* `connections`: number of connections candidate has, 500+ means over 500 (text)\n",
    "__Output (desired target):__\n",
    "* `fit`: how fit the candidate is for the role (numeric, probability 0 - 1)\n",
    "\n",
    "__Keywords:__\n",
    "* “Aspiring human resources” or “seeking human resources”\n",
    "\n",
    "__Download Data:__\n",
    "* https://docs.google.com/spreadsheets/d/117X6i53dKiO7w6kuA1g1TpdTlv1173h_dPlJt5cNNMU/edit?usp=sharing\n",
    "\n",
    "__Goal(s):__\n",
    "* __Predict how fit the candidate is__ based on their available information (variable `fit`)\n",
    "\n",
    "__Success Metric(s):__\n",
    "* __Rank candidates__ based on a fitness score.\n",
    "* __Re-rank candidates__ when a candidate is __starred__.\n",
    "\n",
    "__Bonus(es):__\n",
    "* We are interested in \n",
    "    * a robust algorithm\n",
    "    * tell us how your solution works\n",
    "    * show us how your __ranking gets better__ with each starring action.\n",
    "* How can we __filter out candidates__ which in the first place should __not be in this list__?\n",
    "* Can we determine a __cut-off point__ that would work for other roles without losing high potential candidates?\n",
    "* Do you have any ideas that we should explore so that we can even __automate this procedure__ to prevent human bias?"
   ]
  },
  {
   "cell_type": "markdown",
   "id": "e2a78d3d-6ac9-4e21-8212-2b1f0a8aab31",
   "metadata": {},
   "source": [
    "## Repository description <a class=\"anchor\" id=\"RepositoryDescription\"></a>\n",
    "[TOC](#TOC)"
   ]
  },
  {
   "cell_type": "markdown",
   "id": "568a3870-51b4-4131-b460-f0178320476b",
   "metadata": {},
   "source": [
    "__Notebooks:__\n",
    "* __Fitness by scoring:__ \n",
    "    * Each candidate is automatically provided with a preliminary fitness.\n",
    "    * This fitness is calculated from the lemmas of the job title.\n",
    "* __Initialize learning process:__\n",
    "    * Some technical initializations, e.g. deleting the history of a previous learning experiment.\n",
    "* __Starring candidates:__\n",
    "    * Iterative favoring candidates.\n",
    "    * Manual process.\n",
    "    * Main elements:\n",
    "        * Adding a bonus to the starred candidate's fitness.\n",
    "        * Transferring this bonus signal to other candidates using kNN.\n",
    "    * This learning process is protocoled for the next notebook (learning history).\n",
    "* __Learning parameters:__\n",
    "    * Considering k and bonus as hyperparameters.\n",
    "    * Submitting these hyperparameters to a grid-search.\n",
    "* __Gallery:__\n",
    "    * Main results of learning parameter optimizations.\n",
    "    * Conclusions on best k and bonus."
   ]
  }
 ],
 "metadata": {
  "kernelspec": {
   "display_name": "Python 3 (ipykernel)",
   "language": "python",
   "name": "python3"
  },
  "language_info": {
   "codemirror_mode": {
    "name": "ipython",
    "version": 3
   },
   "file_extension": ".py",
   "mimetype": "text/x-python",
   "name": "python",
   "nbconvert_exporter": "python",
   "pygments_lexer": "ipython3",
   "version": "3.9.10"
  }
 },
 "nbformat": 4,
 "nbformat_minor": 5
}
