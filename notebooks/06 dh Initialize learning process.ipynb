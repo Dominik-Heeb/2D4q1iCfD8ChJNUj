{
 "cells": [
  {
   "cell_type": "markdown",
   "id": "f08414be-1421-4d8d-81f8-ac78dfddca47",
   "metadata": {},
   "source": [
    "# Initialize learning process\n",
    "\n",
    "Apziva project #3<br>\n",
    "2023 07 17\n",
    "\n",
    "__Summary:__\n",
    "* Some technical initializations.\n",
    "* Example: deleting the history of a previous learning experiment."
   ]
  },
  {
   "cell_type": "markdown",
   "id": "5f934034-55b2-47a1-a874-f20ef72a6d2b",
   "metadata": {
    "jp-MarkdownHeadingCollapsed": true,
    "tags": []
   },
   "source": [
    "## TOC: <a class=\"anchor\" id=\"TOC\"></a>\n",
    "* [Notebook description](#NotebookDescription)\n",
    "* [Utilities](#Utilities)\n",
    "* [Initialize learning process](#InitializeLearningProcess)"
   ]
  },
  {
   "cell_type": "markdown",
   "id": "6bcdedbe-117d-4e26-979d-23d1f645e530",
   "metadata": {},
   "source": [
    "## Notebook description <a class=\"anchor\" id=\"NotebookDescription\"></a>\n",
    "[TOC](#TOC)"
   ]
  },
  {
   "cell_type": "markdown",
   "id": "fe5425b2-c7ed-46d5-96a8-38f369539120",
   "metadata": {},
   "source": [
    "* The project \"Potential talents\" consists of two main parts:\n",
    "    * __Unsupervised learning__: \n",
    "        * calculating fitness by scoring.\n",
    "        * Notebook \"Fitness by scoring\".\n",
    "    * __Supervised learning__: \n",
    "        * modeling fitness by starring candidates.\n",
    "        * Notebook \"Starring candidates\".\n",
    "* This notebook __links the above two parts__:\n",
    "    * It __resets__ the supervised learning process.\n",
    "    * After running this notebook run the notebook \"Starring candidates\" iteratively:\n",
    "        * open `data/interim/RankedCandidates.csv` to get automatically __ranked proposals__ in CSV format.\n",
    "        * use expert knowledge to __star one candidate__ that fits the job requirements better.\n",
    "        * __save the CSV file__ after setting this star.\n",
    "        * __re-run__ the notebook \"Starring candidates\"."
   ]
  },
  {
   "cell_type": "markdown",
   "id": "3d6d5cb2-4e49-45e3-921f-e3b42953faed",
   "metadata": {},
   "source": [
    "## Utilities <a class=\"anchor\" id=\"Utilities\"></a>\n",
    "[TOC](#TOC)"
   ]
  },
  {
   "cell_type": "code",
   "execution_count": 1,
   "id": "f3f2ad6e-a9af-445c-8dc1-61dc3d7fee62",
   "metadata": {
    "tags": []
   },
   "outputs": [],
   "source": [
    "# own libraries\n",
    "import Utilities as u\n",
    "import MachineLearning as ml\n",
    "\n",
    "# activate changes in libraries\n",
    "import importlib\n",
    "importlib.reload(u)\n",
    "importlib.reload(ml)\n",
    "\n",
    "# aliases\n",
    "from Utilities import TypeChecker as t\n",
    "from Utilities import PrintAlias as p"
   ]
  },
  {
   "cell_type": "markdown",
   "id": "6a8ec220-aa93-46fa-86d5-0a2377ff4757",
   "metadata": {},
   "source": [
    "## General settings <a class=\"anchor\" id=\"GeneralSetting\"></a>\n",
    "[TOC](#TOC)"
   ]
  },
  {
   "cell_type": "code",
   "execution_count": 2,
   "id": "50d7b6e4-c79d-4062-9875-2c6610e40303",
   "metadata": {},
   "outputs": [],
   "source": [
    "# constants\n",
    "\n",
    "# general\n",
    "cfltRandomSeed = 42 # any number\n",
    "\n",
    "# files\n",
    "cstrSourcePath = \"../data/raw/\"\n",
    "cstrSourceFile = \"PotentialTalentsUTF8.csv\"\n",
    "\n",
    "cstrOutputPath = \"../data/interim/\"\n",
    "cstrOutputFile = \"RankedCandidates.csv\""
   ]
  },
  {
   "cell_type": "markdown",
   "id": "a99a7bb8-f731-4906-bcfb-c71467665c6f",
   "metadata": {},
   "source": [
    "## Initialize learning process <a class=\"anchor\" id=\"InitializeLearningProcess\"></a>\n",
    "[TOC](#TOC)"
   ]
  },
  {
   "cell_type": "code",
   "execution_count": 3,
   "id": "42eddf45-18ac-4864-b0c6-175a886e2c86",
   "metadata": {
    "tags": []
   },
   "outputs": [
    {
     "name": "stdout",
     "output_type": "stream",
     "text": [
      "INITIALIZE LEARNING PROCESS\n",
      "- the file '../models/dfrFitnessFromLearning.p' with previous learnings has been deleted.\n",
      "- the file '../data/interim/RankedCandidates.csv' for user input (starring) has been deleted.\n",
      "- total files deleted: 2\n"
     ]
    }
   ],
   "source": [
    "from pathlib import Path\n",
    "\n",
    "# init\n",
    "p(\"Initialize learning process\".upper())\n",
    "\n",
    "# define files to delete\n",
    "llstrFilesToDelete = [\n",
    "       [\"../models/dfrFitnessFromLearning.p\", \"with previous learnings\"],\n",
    "       [f\"{cstrOutputPath}{cstrOutputFile}\" , \"for user input (starring)\"],\n",
    "       [\"../models/lstrStarredCandidates.p\",  \"with starring history\"],\n",
    "]\n",
    "\n",
    "intDeletions = 0\n",
    "for lstrFileToDelete in llstrFilesToDelete:\n",
    "    strFilename = lstrFileToDelete[0]\n",
    "    strDetail   = lstrFileToDelete[1]\n",
    "    objFilePath = Path(strFilename) \n",
    "    if objFilePath.exists():\n",
    "        objFilePath.unlink() # unlink = delete\n",
    "        p(f\"- the file '{strFilename}' {strDetail} has been deleted.\")\n",
    "        intDeletions += 1\n",
    "\n",
    "# finalize\n",
    "p(f\"- total files deleted: {intDeletions}\")"
   ]
  },
  {
   "cell_type": "markdown",
   "id": "942a8ae0-bad4-4f2a-bb82-4acb5d01d04c",
   "metadata": {},
   "source": [
    "__Initializing learning finished:__\n",
    "* Now proceed to notebook \"Starring candidates\"."
   ]
  }
 ],
 "metadata": {
  "kernelspec": {
   "display_name": "Python 3 (ipykernel)",
   "language": "python",
   "name": "python3"
  },
  "language_info": {
   "codemirror_mode": {
    "name": "ipython",
    "version": 3
   },
   "file_extension": ".py",
   "mimetype": "text/x-python",
   "name": "python",
   "nbconvert_exporter": "python",
   "pygments_lexer": "ipython3",
   "version": "3.9.10"
  }
 },
 "nbformat": 4,
 "nbformat_minor": 5
}
